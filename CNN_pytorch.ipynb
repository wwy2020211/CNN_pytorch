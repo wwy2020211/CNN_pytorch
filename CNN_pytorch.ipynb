{
 "cells": [
  {
   "cell_type": "code",
   "execution_count": 1,
   "metadata": {},
   "outputs": [],
   "source": [
    "import torch\n",
    "import torch.nn as nn\n",
    "import torch.nn.functional as F\n",
    "import torch.utils.data as Data\n",
    "import torchvision\n",
    "import torchvision.transforms as transforms  \n",
    "\n",
    "import matplotlib.pyplot as plt\n",
    "import numpy as np\n",
    "\n",
    "%matplotlib inline\n",
    " "
   ]
  },
  {
   "cell_type": "code",
   "execution_count": null,
   "metadata": {},
   "outputs": [],
   "source": []
  },
  {
   "cell_type": "code",
   "execution_count": 2,
   "metadata": {},
   "outputs": [],
   "source": [
    " # 这句用来设置pytorch在哪运行\n",
    "device = torch.device('cuda' if torch.cuda.is_available() else 'cpu')\n",
    "\n",
    "# 超参数设置\n",
    "num_epochs = 5\n",
    "num_classes = 10\n",
    "batch_size = 64  # 一个batch 的大小\n",
    "image_size = 28  #图像的总尺寸28*28\n",
    "learning_rate = 0.001"
   ]
  },
  {
   "cell_type": "code",
   "execution_count": 3,
   "metadata": {},
   "outputs": [
    {
     "name": "stdout",
     "output_type": "stream",
     "text": [
      "Downloading http://yann.lecun.com/exdb/mnist/train-images-idx3-ubyte.gz to ./data\\MNIST\\raw\\train-images-idx3-ubyte.gz\n"
     ]
    },
    {
     "name": "stderr",
     "output_type": "stream",
     "text": [
      "100.1%"
     ]
    },
    {
     "name": "stdout",
     "output_type": "stream",
     "text": [
      "Extracting ./data\\MNIST\\raw\\train-images-idx3-ubyte.gz to ./data\\MNIST\\raw\n",
      "Downloading http://yann.lecun.com/exdb/mnist/train-labels-idx1-ubyte.gz to ./data\\MNIST\\raw\\train-labels-idx1-ubyte.gz\n"
     ]
    },
    {
     "name": "stderr",
     "output_type": "stream",
     "text": [
      "113.5%"
     ]
    },
    {
     "name": "stdout",
     "output_type": "stream",
     "text": [
      "Extracting ./data\\MNIST\\raw\\train-labels-idx1-ubyte.gz to ./data\\MNIST\\raw\n",
      "Downloading http://yann.lecun.com/exdb/mnist/t10k-images-idx3-ubyte.gz to ./data\\MNIST\\raw\\t10k-images-idx3-ubyte.gz\n"
     ]
    },
    {
     "name": "stderr",
     "output_type": "stream",
     "text": [
      "100.4%"
     ]
    },
    {
     "name": "stdout",
     "output_type": "stream",
     "text": [
      "Extracting ./data\\MNIST\\raw\\t10k-images-idx3-ubyte.gz to ./data\\MNIST\\raw\n",
      "Downloading http://yann.lecun.com/exdb/mnist/t10k-labels-idx1-ubyte.gz to ./data\\MNIST\\raw\\t10k-labels-idx1-ubyte.gz\n"
     ]
    },
    {
     "name": "stderr",
     "output_type": "stream",
     "text": [
      "180.4%D:\\python\\anconda\\envs\\pytorch\\lib\\site-packages\\torchvision\\datasets\\mnist.py:469: UserWarning: The given NumPy array is not writeable, and PyTorch does not support non-writeable tensors. This means you can write to the underlying (supposedly non-writeable) NumPy array using the tensor. You may want to copy the array to protect its data or make it writeable before converting it to a tensor. This type of warning will be suppressed for the rest of this program. (Triggered internally at  ..\\torch\\csrc\\utils\\tensor_numpy.cpp:141.)\n",
      "  return torch.from_numpy(parsed.astype(m[2], copy=False)).view(*s)\n"
     ]
    },
    {
     "name": "stdout",
     "output_type": "stream",
     "text": [
      "Extracting ./data\\MNIST\\raw\\t10k-labels-idx1-ubyte.gz to ./data\\MNIST\\raw\n",
      "Processing...\n",
      "Done!\n"
     ]
    }
   ],
   "source": [
    "\n",
    "train_dataset = torchvision.datasets.MNIST(root='./data',train=True,transform=transforms.ToTensor(),download=True) \n",
    "test_dataset = torchvision.datasets.MNIST(root='./data',train=False,transform=transforms.ToTensor(),download=True)"
   ]
  },
  {
   "cell_type": "code",
   "execution_count": 4,
   "metadata": {},
   "outputs": [
    {
     "name": "stdout",
     "output_type": "stream",
     "text": [
      "len(train_loader): 938\n",
      "len(train_loader.dataset): 60000\n"
     ]
    }
   ],
   "source": [
    "train_loader = torch.utils.data.DataLoader(dataset=train_dataset,batch_size=batch_size,shuffle=True)\n",
    "print('len(train_loader):',len(train_loader))\n",
    "print('len(train_loader.dataset):',len(train_loader.dataset))\n",
    "\n",
    "\"\"\"\n",
    "接下来把测试数据中的前5000个样本作为验证集，后5000个样本作为测试集\n",
    "\"\"\"\n",
    "indices = range(len(test_dataset))\n",
    "indices_val = indices[:5000]\n",
    "indices_test = indices[5000:]  \n",
    "\n",
    "# 通过下标对验证集和测试集进行采样\n",
    "sampler_val = torch.utils.data.sampler.SubsetRandomSampler(indices_val)\n",
    "sampler_test = torch.utils.data.sampler.SubsetRandomSampler(indices_test)\n",
    "\n",
    "# 根据采样器来定义加载器，然后加载数据\n",
    "validation_loader = torch.utils.data.DataLoader(dataset =test_dataset,batch_size = batch_size,sampler = sampler_val)\n",
    "\n",
    "test_loader = torch.utils.data.DataLoader(dataset=test_dataset,batch_size=batch_size,sampler = sampler_test)"
   ]
  },
  {
   "cell_type": "code",
   "execution_count": 105,
   "metadata": {},
   "outputs": [
    {
     "name": "stdout",
     "output_type": "stream",
     "text": [
      "标签是： 5\n"
     ]
    },
    {
     "data": {
      "image/png": "[encoded data removed]",
      "text/plain": [
       "<Figure size 432x288 with 1 Axes>"
      ]
     },
     "metadata": {
      "needs_background": "light"
     },
     "output_type": "display_data"
    }
   ],
   "source": [
    "idx = 0\n",
    "\n",
    "#dataset支持下标索引，其中提取出来的每一个元素为features，target格式，即属性和标签。[0]表示索引features\n",
    "muteimg = train_dataset[idx][0].numpy()\n",
    "#由于一般的图像包含rgb三个通道，而MINST数据集的图像都是灰度的，只有一个通道。因此，我们忽略通道，把图像看作一个灰度矩阵。\n",
    "\n",
    "#用imshow画图，会将灰度矩阵自动展现为彩色\n",
    "\n",
    "plt.imshow(muteimg[0,...])\n",
    "print('标签是：',train_dataset[idx][1])"
   ]
  },
  {
   "cell_type": "code",
   "execution_count": 106,
   "metadata": {},
   "outputs": [],
   "source": [
    "#定义两个卷积层的厚度（feature map的数量）\n",
    "depth = [4, 4]\n",
    "class ConvNet(nn.Module):\n",
    "    def __init__(self):\n",
    "        super().__init__()\n",
    "        self.conv1 = nn.Conv2d(1,depth[0],5,padding=2) # 1 input channel, 8 output channels, 5x5 square convolution kernel\n",
    "        self.pool = nn.MaxPool2d(2, 2) #定义一个Pooling层\n",
    "        self.conv2 = nn.Conv2d(depth[0],depth[1],5, padding = 2) #第二层卷积:8input channel, 4 output channels, 5x5 square convolution kernel\n",
    "        self.fc1 = nn.Linear( depth[1] * image_size // 4 * image_size // 4 , 512) #线性连接层的输入尺寸为最后一层立方体的平铺，输出层512个节点\n",
    "        self.fc2 = nn.Linear(512, num_classes) #最后一层线性分类单元，输入为512，输出为要做分类的类别数  \n",
    "        \n",
    "    def forward(self, x):\n",
    "        # x尺寸：(batch_size, image_channels, image_width, image_height)\n",
    "        x = F.relu(self.conv1(x))  #第一层卷积的激活函数用ReLu\n",
    "        x = self.pool(x) #第二层pooling，将片变小\n",
    "        \n",
    "        #x的尺寸：(batch_size, depth[0], image_width/2, image_height/2)\n",
    "        x = F.relu(self.conv2(x)) #第三层卷积，输入输出通道分别为depth[0]=4, depth[1]=8\n",
    "        x = self.pool(x) #第四层pooling，将图片缩小到原大小的1/4\n",
    "        \n",
    "        #x的尺寸：(batch_size, depth[1], image_width/4, image_height/4)\n",
    "        # view函数将张量x变形成一维的向量形式，总特征数batch_size * (image_size//4)^2*depth[1]不改变，为接下来的全连接作准备。\n",
    "        x = x.view(-1, image_size // 4 * image_size // 4 * depth[1])\n",
    "        \n",
    "        #x的尺寸：(batch_size, depth[1]*image_width/4*image_height/4)\n",
    "        x = F.relu(self.fc1(x)) #第五层为全链接，ReLu激活函数\n",
    "        \n",
    "        #x的尺寸：(batch_size, 512)\n",
    "        # dropout 参数training：pply dropout if is True. Defualt: True\n",
    "        x = F.dropout(x, training=self.training) #以默认为0.5的概率对这一层进行dropout操作，为了防止过拟合\n",
    "        x = self.fc2(x) \n",
    "        \n",
    "        #x的尺寸：(batch_size, num_classes)\n",
    "        #输出层为log_softmax，即概率对数值log(p(x))。采用log_softmax可以使得后面的交叉熵计算更快\n",
    "        #log_softmax虽然等价于log(softmax(x))，但是分开两个运算会速度比较慢，数值也不稳定。\n",
    "        # dim=0 ，即softmax后横向的和为1\n",
    "        x = F.log_softmax(x, dim = 0) \n",
    "        return x\n",
    "    \n",
    "    def retrieve_features(self, x):\n",
    "        #该函数用于提取卷积神经网络的特征图的功能，返回feature_map1, feature_map2为前两层卷积层的特征图\n",
    "        feature_map1 = F.relu(self.conv1(x)) #完成第一层卷积\n",
    "        x = self.pool(feature_map1)  # 完成第一层pooling\n",
    "        #print('type(feature_map1)=',feature_map1)\n",
    "        #type是一个四维的tensor\n",
    "        feature_map2 = F.relu(self.conv2(x)) #第二层卷积，两层特征图都存储到了feature_map1, feature_map2中\n",
    "        return (feature_map1, feature_map2)"
   ]
  },
  {
   "cell_type": "code",
   "execution_count": null,
   "metadata": {},
   "outputs": [],
   "source": []
  },
  {
   "cell_type": "code",
   "execution_count": 107,
   "metadata": {},
   "outputs": [],
   "source": [
    "def accuracy(predictions, labels):\n",
    "    # torch.max的输出：out (tuple, optional维度) – the result tuple of two output tensors (max, max_indices)\n",
    "    pred = torch.max(predictions.data, 1)[1] # 对于任意一行（一个样本）的输出值的第1个维度，求最大，得到每一行的最大元素的下标\n",
    "    right_num = pred.eq(labels.data.view_as(pred)).sum() #将下标与labels中包含的类别进行比较，并累计得到比较正确的数量\n",
    "    return right_num, len(labels) #返回正确的数量和这一次一共比较了多少元素"
   ]
  },
  {
   "cell_type": "code",
   "execution_count": 108,
   "metadata": {
    "scrolled": false
   },
   "outputs": [
    {
     "name": "stdout",
     "output_type": "stream",
     "text": [
      "Epoch [1/5] [0/60000]\tLoss: 2.298919\t训练集准确率: 15.62%\t验证集准确率: 14.10%\n",
      "Epoch [1/5] [6400/60000]\tLoss: 2.301183\t训练集准确率: 10.83%\t验证集准确率: 26.22%\n",
      "Epoch [1/5] [12800/60000]\tLoss: 2.290984\t训练集准确率: 12.95%\t验证集准确率: 40.08%\n",
      "Epoch [1/5] [19200/60000]\tLoss: 2.287848\t训练集准确率: 15.92%\t验证集准确率: 52.52%\n",
      "Epoch [1/5] [25600/60000]\tLoss: 2.249463\t训练集准确率: 19.58%\t验证集准确率: 59.86%\n",
      "Epoch [1/5] [32000/60000]\tLoss: 2.197756\t训练集准确率: 23.53%\t验证集准确率: 61.62%\n",
      "Epoch [1/5] [38400/60000]\tLoss: 1.852088\t训练集准确率: 27.68%\t验证集准确率: 63.86%\n",
      "Epoch [1/5] [44800/60000]\tLoss: 1.168872\t训练集准确率: 32.25%\t验证集准确率: 74.26%\n",
      "Epoch [1/5] [51200/60000]\tLoss: 0.817512\t训练集准确率: 36.91%\t验证集准确率: 79.14%\n",
      "Epoch [1/5] [57600/60000]\tLoss: 0.786448\t训练集准确率: 41.24%\t验证集准确率: 82.02%\n",
      "Epoch [2/5] [0/60000]\tLoss: 0.682452\t训练集准确率: 81.25%\t验证集准确率: 82.82%\n",
      "Epoch [2/5] [6400/60000]\tLoss: 0.810404\t训练集准确率: 79.89%\t验证集准确率: 83.82%\n",
      "Epoch [2/5] [12800/60000]\tLoss: 0.532311\t训练集准确率: 81.56%\t验证集准确率: 85.34%\n",
      "Epoch [2/5] [19200/60000]\tLoss: 0.419761\t训练集准确率: 81.99%\t验证集准确率: 85.88%\n",
      "Epoch [2/5] [25600/60000]\tLoss: 0.422976\t训练集准确率: 82.61%\t验证集准确率: 87.70%\n",
      "Epoch [2/5] [32000/60000]\tLoss: 0.498028\t训练集准确率: 83.33%\t验证集准确率: 87.96%\n",
      "Epoch [2/5] [38400/60000]\tLoss: 0.318345\t训练集准确率: 83.86%\t验证集准确率: 88.46%\n",
      "Epoch [2/5] [44800/60000]\tLoss: 0.374477\t训练集准确率: 84.23%\t验证集准确率: 88.80%\n",
      "Epoch [2/5] [51200/60000]\tLoss: 0.353383\t训练集准确率: 84.65%\t验证集准确率: 89.76%\n",
      "Epoch [2/5] [57600/60000]\tLoss: 0.229216\t训练集准确率: 85.03%\t验证集准确率: 89.82%\n",
      "Epoch [3/5] [0/60000]\tLoss: 0.586304\t训练集准确率: 79.69%\t验证集准确率: 90.36%\n",
      "Epoch [3/5] [6400/60000]\tLoss: 0.343583\t训练集准确率: 89.02%\t验证集准确率: 90.76%\n",
      "Epoch [3/5] [12800/60000]\tLoss: 0.333039\t训练集准确率: 89.47%\t验证集准确率: 90.36%\n",
      "Epoch [3/5] [19200/60000]\tLoss: 0.467390\t训练集准确率: 89.77%\t验证集准确率: 91.08%\n",
      "Epoch [3/5] [25600/60000]\tLoss: 0.327183\t训练集准确率: 90.00%\t验证集准确率: 91.72%\n",
      "Epoch [3/5] [32000/60000]\tLoss: 0.282642\t训练集准确率: 90.04%\t验证集准确率: 91.94%\n",
      "Epoch [3/5] [38400/60000]\tLoss: 0.202265\t训练集准确率: 90.24%\t验证集准确率: 91.96%\n",
      "Epoch [3/5] [44800/60000]\tLoss: 0.241289\t训练集准确率: 90.45%\t验证集准确率: 92.42%\n",
      "Epoch [3/5] [51200/60000]\tLoss: 0.183749\t训练集准确率: 90.58%\t验证集准确率: 92.28%\n",
      "Epoch [3/5] [57600/60000]\tLoss: 0.348118\t训练集准确率: 90.67%\t验证集准确率: 92.96%\n",
      "Epoch [4/5] [0/60000]\tLoss: 0.247446\t训练集准确率: 89.06%\t验证集准确率: 92.66%\n",
      "Epoch [4/5] [6400/60000]\tLoss: 0.258940\t训练集准确率: 91.96%\t验证集准确率: 93.22%\n",
      "Epoch [4/5] [12800/60000]\tLoss: 0.323377\t训练集准确率: 92.10%\t验证集准确率: 92.96%\n",
      "Epoch [4/5] [19200/60000]\tLoss: 0.183839\t训练集准确率: 92.03%\t验证集准确率: 93.28%\n",
      "Epoch [4/5] [25600/60000]\tLoss: 0.205285\t训练集准确率: 92.32%\t验证集准确率: 93.62%\n",
      "Epoch [4/5] [32000/60000]\tLoss: 0.081146\t训练集准确率: 92.38%\t验证集准确率: 93.80%\n",
      "Epoch [4/5] [38400/60000]\tLoss: 0.234453\t训练集准确率: 92.48%\t验证集准确率: 93.80%\n",
      "Epoch [4/5] [44800/60000]\tLoss: 0.320691\t训练集准确率: 92.59%\t验证集准确率: 94.16%\n",
      "Epoch [4/5] [51200/60000]\tLoss: 0.161752\t训练集准确率: 92.70%\t验证集准确率: 93.58%\n",
      "Epoch [4/5] [57600/60000]\tLoss: 0.246423\t训练集准确率: 92.74%\t验证集准确率: 94.04%\n",
      "Epoch [5/5] [0/60000]\tLoss: 0.159499\t训练集准确率: 92.19%\t验证集准确率: 93.90%\n",
      "Epoch [5/5] [6400/60000]\tLoss: 0.142254\t训练集准确率: 93.24%\t验证集准确率: 94.52%\n",
      "Epoch [5/5] [12800/60000]\tLoss: 0.174806\t训练集准确率: 93.45%\t验证集准确率: 94.36%\n",
      "Epoch [5/5] [19200/60000]\tLoss: 0.255415\t训练集准确率: 93.62%\t验证集准确率: 94.56%\n",
      "Epoch [5/5] [25600/60000]\tLoss: 0.129402\t训练集准确率: 93.63%\t验证集准确率: 94.30%\n",
      "Epoch [5/5] [32000/60000]\tLoss: 0.133183\t训练集准确率: 93.68%\t验证集准确率: 94.54%\n",
      "Epoch [5/5] [38400/60000]\tLoss: 0.178699\t训练集准确率: 93.79%\t验证集准确率: 94.30%\n",
      "Epoch [5/5] [44800/60000]\tLoss: 0.081930\t训练集准确率: 93.88%\t验证集准确率: 94.82%\n",
      "Epoch [5/5] [51200/60000]\tLoss: 0.305428\t训练集准确率: 93.87%\t验证集准确率: 95.04%\n",
      "Epoch [5/5] [57600/60000]\tLoss: 0.154459\t训练集准确率: 93.91%\t验证集准确率: 94.52%\n"
     ]
    },
    {
     "data": {
      "image/png": "[encoded data removed]",
      "text/plain": [
       "<Figure size 432x288 with 5 Axes>"
      ]
     },
     "metadata": {
      "needs_background": "light"
     },
     "output_type": "display_data"
    }
   ],
   "source": [
    "net = ConvNet()\n",
    "\n",
    "criterion = nn.CrossEntropyLoss() #Loss函数的定义，交叉熵\n",
    "optimizer = torch.optim.SGD(net.parameters(), lr=0.001, momentum=0.9) #定义优化器，普通的随机梯度下降算法\n",
    "\n",
    "record = [] #记录训练集和验证集上错误率的list\n",
    "weights = [] #每若干步就记录一次卷积核\n",
    "fig=plt.figure()\n",
    "for epoch in range(num_epochs):\n",
    "    train_accuracy = [] #记录训练数据集准确率的容器\n",
    "    los_list=[]\n",
    "    accu=[]\n",
    "    # 一次迭代一个batch的 data 和 target\n",
    "    for batch_id, (data,target) in enumerate(train_loader):\n",
    "        net.train() # 给网络模型做标记，打开关闭net的training标志,从而决定是否运行dropout\n",
    "        \n",
    "        output =  net(data) #forward \n",
    "        loss = criterion(output, target) \n",
    "        \n",
    "        optimizer.zero_grad()\n",
    "        loss.backward()\n",
    "        optimizer.step()\n",
    "        \n",
    "        accuracies = accuracy(output, target)\n",
    "        train_accuracy.append(accuracies)\n",
    "        \n",
    "        if batch_id%100 ==0: #每间隔100个batch执行一次打印等操作\n",
    "            net.eval() # 给网络模型做标记，将模型转换为测试模式。\n",
    "            val_accuracy = [] #记录校验数据集准确率的容器            \n",
    "            for (data, target) in validation_loader: #计算校验集上面的准确度\n",
    "                output = net(data) #完成一次前馈计算过程，得到目前训练得到的模型net在校验数据集上的表现\n",
    "                accuracies = accuracy(output, target) #计算准确率所需数值，返回正确的数值为（正确样例数，总样本数）\n",
    "                val_accuracy.append(accuracies)                \n",
    "            # 分别计算在已经计算过的训练集，以及全部校验集上模型的分类准确率            \n",
    "            #train_r为一个二元组，分别记录目前  已经经历过的所有  训练集中分类正确的数量和该集合中总的样本数，\n",
    "            train_r = (sum([tup[0] for tup in train_accuracy]), sum([tup[1] for tup in train_accuracy]))\n",
    "            #val_r为一个二元组，分别记录校验集中分类正确的数量和该集合中总的样本数\n",
    "            val_r = (sum([tup[0] for tup in val_accuracy]), sum([tup[1] for tup in val_accuracy]))\n",
    "            los_list.append(100. * val_r[0] / val_r[1])\n",
    "            #打印准确率等数值，其中正确率为本训练周期Epoch开始后到目前batch的正确率的平均值\n",
    "            print('Epoch [{}/{}] [{}/{}]\\tLoss: {:.6f}\\t训练集准确率: {:.2f}%\\t验证集准确率: {:.2f}%'.format(\n",
    "                epoch+1,num_epochs, batch_id * batch_size, len(train_loader.dataset),\n",
    "                loss.item(), \n",
    "                100. * train_r[0] / train_r[1], \n",
    "                100. * val_r[0] / val_r[1]))            \n",
    "            #将准确率和权重等数值加载到容器中，方便后续处理            \n",
    "            record.append((100 - 100. * train_r[0] / train_r[1], 100 - 100. * val_r[0] / val_r[1])) \n",
    "            accu.append(100. * train_r[0] / train_r[1])\n",
    "            # weights记录了训练周期中所有卷积核的演化过程。net.conv1.weight就提取出了第一层卷积核的权重\n",
    "            # clone的意思就是将weight.data中的数据做一个拷贝放到列表中，否则当weight.data变化的时候，列表中的每一项数值也会联动\n",
    "            '''这里使用clone这个函数很重要'''\n",
    "            weights.append([net.conv1.weight.data.clone(), net.conv1.bias.data.clone(), \n",
    "                            net.conv2.weight.data.clone(), net.conv2.bias.data.clone()])\n",
    "    ax=fig.add_subplot(2,3,epoch+1)\n",
    "    ax.plot(np.arange(1,np.size(accu)+1),accu)"
   ]
  },
  {
   "cell_type": "code",
   "execution_count": 109,
   "metadata": {},
   "outputs": [
    {
     "data": {
      "text/plain": [
       "Text(0, 0.5, 'Error rate')"
      ]
     },
     "execution_count": 109,
     "metadata": {},
     "output_type": "execute_result"
    },
    {
     "data": {
      "image/png": "[encoded data removed]",
      "text/plain": [
       "<Figure size 720x504 with 1 Axes>"
      ]
     },
     "metadata": {
      "needs_background": "light"
     },
     "output_type": "display_data"
    }
   ],
   "source": [
    "plt.figure(figsize = (10,7))\n",
    "plt.plot(record)\n",
    "plt.xlabel('Steps')\n",
    "plt.ylabel('Error rate')"
   ]
  },
  {
   "cell_type": "code",
   "execution_count": 110,
   "metadata": {},
   "outputs": [
    {
     "name": "stdout",
     "output_type": "stream",
     "text": [
      "test accuracy: 0.9752\n"
     ]
    }
   ],
   "source": [
    "# 在测试集上进行测试\n",
    "net.eval() #标志模型当前为测试阶段\n",
    "vals = [] #记录准确率所用列表\n",
    "\n",
    "with torch.no_grad():\n",
    "    for data,target in test_loader:\n",
    "        \n",
    "        output = net(data)\n",
    "        \n",
    "        val = accuracy(output,target)\n",
    "        vals.append(val)\n",
    "        \n",
    "#计算准确率\n",
    "rights = (sum([tup[0] for tup in vals]), sum([tup[1] for tup in vals]))\n",
    "right_rate = 1.0 * rights[0].detach().numpy() / rights[1]\n",
    "\n",
    "\n",
    "print(\"test accuracy:\",right_rate)"
   ]
  },
  {
   "cell_type": "code",
   "execution_count": 111,
   "metadata": {},
   "outputs": [
    {
     "name": "stdout",
     "output_type": "stream",
     "text": [
      "第一层卷积核的最终结果：\n"
     ]
    },
    {
     "data": {
      "image/png": "[encoded data removed]",
      "text/plain": [
       "<Figure size 720x504 with 4 Axes>"
      ]
     },
     "metadata": {
      "needs_background": "light"
     },
     "output_type": "display_data"
    }
   ],
   "source": [
    "#提取第一层卷积层的卷积核\n",
    "print('第一层卷积核的最终结果：')\n",
    "plt.figure(figsize = (10, 7))\n",
    "for i in range(4):\n",
    "    plt.subplot(1,8,i + 1)\n",
    "    plt.axis('off')\n",
    "    plt.imshow(net.conv1.weight.data.numpy()[i,0,...]) #提取第一层卷积核中的权重值，注意conv1是net的属性"
   ]
  },
  {
   "cell_type": "code",
   "execution_count": 112,
   "metadata": {},
   "outputs": [
    {
     "name": "stdout",
     "output_type": "stream",
     "text": [
      "卷积核的演变：\n"
     ]
    },
    {
     "data": {
      "image/png": "[encoded data removed]",
      "text/plain": [
       "<Figure size 720x504 with 4 Axes>"
      ]
     },
     "metadata": {
      "needs_background": "light"
     },
     "output_type": "display_data"
    },
    {
     "data": {
      "image/png": "[encoded data removed]",
      "text/plain": [
       "<Figure size 720x504 with 4 Axes>"
      ]
     },
     "metadata": {
      "needs_background": "light"
     },
     "output_type": "display_data"
    },
    {
     "data": {
      "image/png": "[encoded data removed]",
      "text/plain": [
       "<Figure size 720x504 with 4 Axes>"
      ]
     },
     "metadata": {
      "needs_background": "light"
     },
     "output_type": "display_data"
    },
    {
     "data": {
      "image/png": "[encoded data removed]",
      "text/plain": [
       "<Figure size 720x504 with 4 Axes>"
      ]
     },
     "metadata": {
      "needs_background": "light"
     },
     "output_type": "display_data"
    },
    {
     "data": {
      "image/png": "[encoded data removed]",
      "text/plain": [
       "<Figure size 720x504 with 4 Axes>"
      ]
     },
     "metadata": {
      "needs_background": "light"
     },
     "output_type": "display_data"
    }
   ],
   "source": [
    "# 将记录在容器中的卷积核权重历史演化数据打印出来\n",
    "print('卷积核的演变：')\n",
    "i = 0\n",
    "for tup in weights:\n",
    "    if i % 10 == 0 :\n",
    "        layer1 = tup[0]\n",
    "        fig = plt.figure(figsize = (10, 7))\n",
    "        for j in range(4):\n",
    "            plt.subplot(1, 4, j + 1)\n",
    "            plt.axis('off')\n",
    "            plt.imshow(layer1.numpy()[j,0,...])\n",
    "    i += 1"
   ]
  },
  {
   "cell_type": "code",
   "execution_count": 113,
   "metadata": {},
   "outputs": [
    {
     "name": "stdout",
     "output_type": "stream",
     "text": [
      "输入图片为：\n",
      "卷积层1 的特征图：\n"
     ]
    },
    {
     "data": {
      "image/png": "[encoded data removed]",
      "text/plain": [
       "<Figure size 432x288 with 1 Axes>"
      ]
     },
     "metadata": {
      "needs_background": "light"
     },
     "output_type": "display_data"
    },
    {
     "data": {
      "image/png": "[encoded data removed]",
      "text/plain": [
       "<Figure size 720x504 with 4 Axes>"
      ]
     },
     "metadata": {
      "needs_background": "light"
     },
     "output_type": "display_data"
    }
   ],
   "source": [
    "#调用net的retrieve_features方法可以抽取出第一个卷积和第二个卷积层的特征图\n",
    "\n",
    "#首先定义读入的图片，unsqueeze（0）的作用是在最前面添加一维（batch），让这个input_x的tensor是四维数的，因为conv2d要求输入4参数\n",
    "idx = 4\n",
    "input_x = test_dataset[idx][0]\n",
    "print('输入图片为：')\n",
    "plt.imshow(input_x[0,...])\n",
    "\n",
    "input_x = test_dataset[idx][0].unsqueeze(0) \n",
    "\n",
    "feature_maps = net.retrieve_features(input_x) #feature_maps是有两个元素的列表，分别表示第一层和第二层卷积的所有特征图\n",
    "\n",
    "plt.figure(figsize = (10, 7))\n",
    "\n",
    "#有四个特征图，循环把它们打印出来\n",
    "print('卷积层1 的特征图：')\n",
    "for i in range(4):\n",
    "    plt.subplot(1,4,i + 1)\n",
    "    plt.axis('off')\n",
    "    plt.imshow(feature_maps[0][0, i,...].data.numpy())"
   ]
  },
  {
   "cell_type": "code",
   "execution_count": null,
   "metadata": {},
   "outputs": [],
   "source": []
  },
  {
   "cell_type": "code",
   "execution_count": null,
   "metadata": {},
   "outputs": [],
   "source": []
  },
  {
   "cell_type": "code",
   "execution_count": 114,
   "metadata": {},
   "outputs": [
    {
     "name": "stdout",
     "output_type": "stream",
     "text": [
      "第二场卷积核的变化情况：\n"
     ]
    },
    {
     "data": {
      "image/png": "[encoded data removed]",
      "text/plain": [
       "<Figure size 1080x720 with 16 Axes>"
      ]
     },
     "metadata": {
      "needs_background": "light"
     },
     "output_type": "display_data"
    }
   ],
   "source": [
    "# 绘制第二层的卷积核，每一列对应一个卷积核，一共8个卷积核\n",
    "print('第二场卷积核的变化情况：')\n",
    "plt.figure(figsize = (15, 10))\n",
    "for i in range(4):\n",
    "    for j in range(4):\n",
    "        plt.subplot(4, 4, i * 4 + j + 1)\n",
    "        plt.axis('off')\n",
    "        plt.imshow(net.conv2.weight.data.numpy()[j, i,...])"
   ]
  },
  {
   "cell_type": "code",
   "execution_count": 115,
   "metadata": {},
   "outputs": [
    {
     "name": "stdout",
     "output_type": "stream",
     "text": [
      "卷积层2的特征图\n"
     ]
    },
    {
     "data": {
      "image/png": "[encoded data removed]",
      "text/plain": [
       "<Figure size 720x504 with 4 Axes>"
      ]
     },
     "metadata": {
      "needs_background": "light"
     },
     "output_type": "display_data"
    }
   ],
   "source": [
    "# 绘制第二层的特征图，一共八个\n",
    "print('卷积层2的特征图')\n",
    "plt.figure(figsize = (10, 7))\n",
    "for i in range(4):\n",
    "    plt.subplot(2,4,i + 1)\n",
    "    plt.axis('off')\n",
    "    plt.imshow(feature_maps[1][0, i,...].data.numpy())"
   ]
  },
  {
   "cell_type": "code",
   "execution_count": null,
   "metadata": {},
   "outputs": [],
   "source": []
  }
 ],
 "metadata": {
  "kernelspec": {
   "display_name": "Python [conda env:pytorch]",
   "language": "python",
   "name": "conda-env-pytorch-py"
  },
  "language_info": {
   "codemirror_mode": {
    "name": "ipython",
    "version": 3
   },
   "file_extension": ".py",
   "mimetype": "text/x-python",
   "name": "python",
   "nbconvert_exporter": "python",
   "pygments_lexer": "ipython3",
   "version": "3.6.10"
  }
 },
 "nbformat": 4,
 "nbformat_minor": 4
}
